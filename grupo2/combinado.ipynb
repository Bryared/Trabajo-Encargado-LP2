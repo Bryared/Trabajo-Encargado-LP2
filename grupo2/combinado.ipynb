{
 "cells": [
  {
   "cell_type": "code",
   "execution_count": 3,
   "id": "bde308f7",
   "metadata": {},
   "outputs": [
    {
     "name": "stdout",
     "output_type": "stream",
     "text": [
      "            date     price_usd\n",
      "0     2024-07-05  57189.174124\n",
      "1     2024-07-06  56739.862851\n",
      "2     2024-07-07  58230.484154\n",
      "3     2024-07-08  55880.375378\n",
      "4     2024-07-09  56665.140734\n",
      "...          ...           ...\n",
      "1093  2025-07-01   2488.190782\n",
      "1094  2025-07-02   2405.104559\n",
      "1095  2025-07-03   2574.067718\n",
      "1096  2025-07-04   2590.132232\n",
      "1097  2025-07-04   2482.454932\n",
      "\n",
      "[1098 rows x 2 columns]\n"
     ]
    }
   ],
   "source": [
    "import pandas as pd\n",
    "import matplotlib.pyplot as plt\n",
    "\n",
    "data_bit = pd.read_csv('bitcoin/bitcoin_prices.csv')\n",
    "data_dog = pd.read_csv('dogecoin/dogecoin_prices.csv')\n",
    "data_eth = pd.read_csv('ethereum_COIN/ethereum_prices.csv')\n",
    "\n",
    "# Combinar todos en un solo DataFrame\n",
    "todo = pd.concat([data_bit , data_dog, data_eth], ignore_index=True)\n",
    "print(todo)\n",
    "\n",
    "\n"
   ]
  }
 ],
 "metadata": {
  "kernelspec": {
   "display_name": "Python 3",
   "language": "python",
   "name": "python3"
  },
  "language_info": {
   "codemirror_mode": {
    "name": "ipython",
    "version": 3
   },
   "file_extension": ".py",
   "mimetype": "text/x-python",
   "name": "python",
   "nbconvert_exporter": "python",
   "pygments_lexer": "ipython3",
   "version": "3.13.4"
  }
 },
 "nbformat": 4,
 "nbformat_minor": 5
}
